{
  "nbformat": 4,
  "nbformat_minor": 0,
  "metadata": {
    "colab": {
      "provenance": [],
      "authorship_tag": "ABX9TyOV0KRN/QfkvJJnOYphKkAW",
      "include_colab_link": true
    },
    "kernelspec": {
      "name": "python3",
      "display_name": "Python 3"
    },
    "language_info": {
      "name": "python"
    }
  },
  "cells": [
    {
      "cell_type": "markdown",
      "metadata": {
        "id": "view-in-github",
        "colab_type": "text"
      },
      "source": [
        "<a href=\"https://colab.research.google.com/github/janani-06032005/machine-learning---part-2/blob/main/VECTOR_PART_2.ipynb\" target=\"_parent\"><img src=\"https://colab.research.google.com/assets/colab-badge.svg\" alt=\"Open In Colab\"/></a>"
      ]
    },
    {
      "cell_type": "markdown",
      "source": [
        "IMPORTING THE DEPENDENCIES"
      ],
      "metadata": {
        "id": "golwtzFqMWdx"
      }
    },
    {
      "cell_type": "code",
      "execution_count": 1,
      "metadata": {
        "id": "C1fKZRjrKGzV"
      },
      "outputs": [],
      "source": [
        "import numpy as np"
      ]
    },
    {
      "cell_type": "markdown",
      "source": [
        "FINDING THE DOT PRODUCT\n",
        "\n",
        "DOT PRODUCT OF TWO VECTORS WILL BE A SCALAR"
      ],
      "metadata": {
        "id": "OMTI493FMd5y"
      }
    },
    {
      "cell_type": "code",
      "source": [
        "a = np.array([2,3])\n",
        "b = np.array([4,4])\n",
        "a_dot_b = np.dot(a,b)"
      ],
      "metadata": {
        "id": "hLXhloY4KTcl"
      },
      "execution_count": 2,
      "outputs": []
    },
    {
      "cell_type": "markdown",
      "source": [
        "DOT FUNCTION IN NUMPY WILL GIVE THE DOT PRODUCT"
      ],
      "metadata": {
        "id": "ZlG7Cm57MikD"
      }
    },
    {
      "cell_type": "code",
      "source": [
        "print(a_dot_b)"
      ],
      "metadata": {
        "colab": {
          "base_uri": "https://localhost:8080/"
        },
        "id": "HUcsmNL9KoAP",
        "outputId": "aeb8cb4f-a23c-4893-d779-90987806a132"
      },
      "execution_count": 3,
      "outputs": [
        {
          "output_type": "stream",
          "name": "stdout",
          "text": [
            "20\n"
          ]
        }
      ]
    },
    {
      "cell_type": "markdown",
      "source": [
        "FOR 3D FIGURE"
      ],
      "metadata": {
        "id": "SihlkEq3Mod_"
      }
    },
    {
      "cell_type": "code",
      "source": [
        "c = np.array([40,20,35])\n",
        "d = np.array([53,24,48])\n",
        "c_dot_d = np.dot(c,d)"
      ],
      "metadata": {
        "id": "cEzGSWUdKrUG"
      },
      "execution_count": 4,
      "outputs": []
    },
    {
      "cell_type": "code",
      "source": [
        "print(c_dot_d)"
      ],
      "metadata": {
        "colab": {
          "base_uri": "https://localhost:8080/"
        },
        "id": "Ji04nILnK4hQ",
        "outputId": "73c3d939-6c09-4f26-e733-869c7863dfb3"
      },
      "execution_count": 5,
      "outputs": [
        {
          "output_type": "stream",
          "name": "stdout",
          "text": [
            "4280\n"
          ]
        }
      ]
    },
    {
      "cell_type": "markdown",
      "source": [
        "CROSS PRODUCT\n",
        "\n",
        "CROSS PRODUCT OF TWO VECTORS WILL BE A VECTOR"
      ],
      "metadata": {
        "id": "8_yULnPMM0iv"
      }
    },
    {
      "cell_type": "code",
      "source": [
        "a = np.array([2,3])\n",
        "b = np.array([4,4])\n",
        "a_cross_b = np.cross(a,b)"
      ],
      "metadata": {
        "id": "10vSEW73K7CA"
      },
      "execution_count": 6,
      "outputs": []
    },
    {
      "cell_type": "code",
      "source": [
        "print(a_cross_b)"
      ],
      "metadata": {
        "colab": {
          "base_uri": "https://localhost:8080/"
        },
        "id": "sOA92N8dLF04",
        "outputId": "8d8030d0-6e37-4fa5-cb26-496a9886d4be"
      },
      "execution_count": 7,
      "outputs": [
        {
          "output_type": "stream",
          "name": "stdout",
          "text": [
            "-4\n"
          ]
        }
      ]
    },
    {
      "cell_type": "markdown",
      "source": [
        "FINDING CROSS PRODUCT FOR 3D FIGURE"
      ],
      "metadata": {
        "id": "DQasRameM8m5"
      }
    },
    {
      "cell_type": "code",
      "source": [
        "c = np.array([40,20,35])\n",
        "d = np.array([53,24,48])\n",
        "c_cross_d = np.cross(c,d)"
      ],
      "metadata": {
        "id": "P7wEFATlLKVM"
      },
      "execution_count": 8,
      "outputs": []
    },
    {
      "cell_type": "code",
      "source": [
        "print(c_cross_d)"
      ],
      "metadata": {
        "colab": {
          "base_uri": "https://localhost:8080/"
        },
        "id": "Hchw-1GhLSJS",
        "outputId": "c4c7e37c-e53a-4016-9150-4535b1230985"
      },
      "execution_count": 9,
      "outputs": [
        {
          "output_type": "stream",
          "name": "stdout",
          "text": [
            "[ 120  -65 -100]\n"
          ]
        }
      ]
    },
    {
      "cell_type": "markdown",
      "source": [
        "PROJECTION OF ONE VECTOR OVER ANOTHER"
      ],
      "metadata": {
        "id": "jLDYCkbnNCFN"
      }
    },
    {
      "cell_type": "code",
      "source": [
        "a = np.array([2,5])\n",
        "v = np.array([8,-6])\n",
        "\n",
        "magnitude_of_v = np.sqrt(sum(v**2))"
      ],
      "metadata": {
        "id": "NWEoH1V9LVku"
      },
      "execution_count": 10,
      "outputs": []
    },
    {
      "cell_type": "code",
      "source": [
        "projection_of_a_on_v = (np.dot(a,v)/magnitude_of_v **2)*v"
      ],
      "metadata": {
        "id": "yXMg57spL2sV"
      },
      "execution_count": 11,
      "outputs": []
    },
    {
      "cell_type": "code",
      "source": [
        "print(projection_of_a_on_v)"
      ],
      "metadata": {
        "colab": {
          "base_uri": "https://localhost:8080/"
        },
        "id": "wNtNCracMFlg",
        "outputId": "9f05e9dc-af4a-4408-be61-d78cdf093a84"
      },
      "execution_count": 12,
      "outputs": [
        {
          "output_type": "stream",
          "name": "stdout",
          "text": [
            "[-1.12  0.84]\n"
          ]
        }
      ]
    },
    {
      "cell_type": "code",
      "source": [],
      "metadata": {
        "id": "QXI5A0KTMMDE"
      },
      "execution_count": null,
      "outputs": []
    }
  ]
}